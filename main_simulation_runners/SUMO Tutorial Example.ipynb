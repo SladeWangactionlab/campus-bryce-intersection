{
 "cells": [
  {
   "cell_type": "markdown",
   "metadata": {},
   "source": [
    "# This notebook runs the SUMO-GUI"
   ]
  },
  {
   "cell_type": "code",
   "execution_count": 1,
   "metadata": {},
   "outputs": [],
   "source": [
    "import os\n",
    "import subprocess\n",
    "import sys\n",
    "import pathlib"
   ]
  },
  {
   "cell_type": "markdown",
   "metadata": {},
   "source": [
    "## Add the Content Root to the Path\n",
    "\n",
    "This is an annoying issue with Jupyter Notebook"
   ]
  },
  {
   "cell_type": "code",
   "execution_count": 2,
   "metadata": {},
   "outputs": [],
   "source": [
    "sys.path.append(os.path.split(pathlib.Path().absolute())[0])"
   ]
  },
  {
   "cell_type": "markdown",
   "metadata": {},
   "source": [
    "## Import the Project Specfic Python Modules"
   ]
  },
  {
   "cell_type": "code",
   "execution_count": 3,
   "metadata": {},
   "outputs": [],
   "source": [
    "import definitions as var_def\n",
    "from global_config_parameters import CONFIG"
   ]
  },
  {
   "cell_type": "markdown",
   "metadata": {},
   "source": [
    "## Add the location of SUMO-GUI"
   ]
  },
  {
   "cell_type": "code",
   "execution_count": 4,
   "metadata": {},
   "outputs": [],
   "source": [
    "sumo_path = os.path.join(os.environ['SUMO_HOME'], 'bin', 'sumo-gui')"
   ]
  },
  {
   "cell_type": "markdown",
   "metadata": {},
   "source": [
    "## Get the command line string"
   ]
  },
  {
   "cell_type": "code",
   "execution_count": 5,
   "metadata": {},
   "outputs": [
    {
     "name": "stdout",
     "output_type": "stream",
     "text": [
      "['-n', 'C:\\\\Users\\\\spraychamber\\\\PycharmProjects\\\\campus-bryce-intersection\\\\sim_files\\\\net\\\\net.net.xml', '-r', 'C:\\\\Users\\\\spraychamber\\\\PycharmProjects\\\\campus-bryce-intersection\\\\sim_files\\\\flow_routes\\\\routes.xml', '-a', 'C:\\\\Users\\\\spraychamber\\\\PycharmProjects\\\\campus-bryce-intersection\\\\sim_files\\\\veh_descript\\\\vTypeDistributions.add.xml, C:\\\\Users\\\\spraychamber\\\\PycharmProjects\\\\campus-bryce-intersection\\\\sim_files\\\\detectors\\\\detector.add.xml, C:\\\\Users\\\\spraychamber\\\\PycharmProjects\\\\campus-bryce-intersection\\\\sim_files\\\\tl_logic\\\\tls_state_record.add.xml', '-e', '14400', '--step-length', '0.5']\n"
     ]
    }
   ],
   "source": [
    "command_line_list = CONFIG.get_cmd_line_list(method='randomRoutes', \n",
    "                                             sim_length=CONFIG.sim_length, \n",
    "                                             sim_step=CONFIG.sim_step,\n",
    "                                             emissions=False,\n",
    "                                             dual_ring_lights=False)"
   ]
  },
  {
   "cell_type": "markdown",
   "metadata": {},
   "source": [
    "## Run the Simulation"
   ]
  },
  {
   "cell_type": "code",
   "execution_count": 6,
   "metadata": {},
   "outputs": [
    {
     "data": {
      "text/plain": [
       "CompletedProcess(args=['C:\\\\Users\\\\spraychamber\\\\Documents\\\\Traffic_Simulation\\\\sumo-git\\\\bin\\\\sumo-gui', '-n', 'C:\\\\Users\\\\spraychamber\\\\PycharmProjects\\\\campus-bryce-intersection\\\\sim_files\\\\net\\\\net.net.xml', '-r', 'C:\\\\Users\\\\spraychamber\\\\PycharmProjects\\\\campus-bryce-intersection\\\\sim_files\\\\flow_routes\\\\routes.xml', '-a', 'C:\\\\Users\\\\spraychamber\\\\PycharmProjects\\\\campus-bryce-intersection\\\\sim_files\\\\veh_descript\\\\vTypeDistributions.add.xml, C:\\\\Users\\\\spraychamber\\\\PycharmProjects\\\\campus-bryce-intersection\\\\sim_files\\\\detectors\\\\detector.add.xml, C:\\\\Users\\\\spraychamber\\\\PycharmProjects\\\\campus-bryce-intersection\\\\sim_files\\\\tl_logic\\\\tls_state_record.add.xml', '-e', '14400', '--step-length', '0.5'], returncode=0)"
      ]
     },
     "execution_count": 6,
     "metadata": {},
     "output_type": "execute_result"
    }
   ],
   "source": [
    "subprocess.run([sumo_path] + command_line_list, shell=False)"
   ]
  },
  {
   "cell_type": "markdown",
   "metadata": {},
   "source": [
    "## Process the detector output file\n",
    "\n",
    "important to note that I am using the e1 detectors here. At some point we should switch to e2 detectors and the xml read function will have to be tweaked"
   ]
  },
  {
   "cell_type": "code",
   "execution_count": 11,
   "metadata": {},
   "outputs": [],
   "source": [
    "from functions.post_processing.xml_parse import parse_detector_xml\n",
    "import pandas as pd"
   ]
  },
  {
   "cell_type": "code",
   "execution_count": 13,
   "metadata": {},
   "outputs": [],
   "source": [
    "detector_csv = os.path.join(var_def.DETECT_DIR_ABSOLUTE, 'detector_OUTPUT_.csv')\n",
    "parse_detector_xml().main(file_path=CONFIG.detector_output_file, save_path=detector_csv)"
   ]
  },
  {
   "cell_type": "code",
   "execution_count": 14,
   "metadata": {},
   "outputs": [],
   "source": [
    "detector_df = pd.read_csv(detector_csv)"
   ]
  },
  {
   "cell_type": "code",
   "execution_count": 15,
   "metadata": {},
   "outputs": [
    {
     "data": {
      "text/html": [
       "<div>\n",
       "<style scoped>\n",
       "    .dataframe tbody tr th:only-of-type {\n",
       "        vertical-align: middle;\n",
       "    }\n",
       "\n",
       "    .dataframe tbody tr th {\n",
       "        vertical-align: top;\n",
       "    }\n",
       "\n",
       "    .dataframe thead th {\n",
       "        text-align: right;\n",
       "    }\n",
       "</style>\n",
       "<table border=\"1\" class=\"dataframe\">\n",
       "  <thead>\n",
       "    <tr style=\"text-align: right;\">\n",
       "      <th></th>\n",
       "      <th>interval_begin</th>\n",
       "      <th>interval_end</th>\n",
       "      <th>interval_flow</th>\n",
       "      <th>interval_harmonicMeanSpeed</th>\n",
       "      <th>interval_id</th>\n",
       "      <th>interval_length</th>\n",
       "      <th>interval_nVehContrib</th>\n",
       "      <th>interval_nVehEntered</th>\n",
       "      <th>interval_occupancy</th>\n",
       "      <th>interval_speed</th>\n",
       "    </tr>\n",
       "  </thead>\n",
       "  <tbody>\n",
       "    <tr>\n",
       "      <th>0</th>\n",
       "      <td>0.0</td>\n",
       "      <td>1.0</td>\n",
       "      <td>0.0</td>\n",
       "      <td>-1.0</td>\n",
       "      <td>Bryce_NB_0_detect</td>\n",
       "      <td>-1.0</td>\n",
       "      <td>0</td>\n",
       "      <td>0</td>\n",
       "      <td>0.0</td>\n",
       "      <td>-1.0</td>\n",
       "    </tr>\n",
       "    <tr>\n",
       "      <th>1</th>\n",
       "      <td>0.0</td>\n",
       "      <td>1.0</td>\n",
       "      <td>0.0</td>\n",
       "      <td>-1.0</td>\n",
       "      <td>Bryce_NB_1_detect</td>\n",
       "      <td>-1.0</td>\n",
       "      <td>0</td>\n",
       "      <td>0</td>\n",
       "      <td>0.0</td>\n",
       "      <td>-1.0</td>\n",
       "    </tr>\n",
       "    <tr>\n",
       "      <th>2</th>\n",
       "      <td>0.0</td>\n",
       "      <td>1.0</td>\n",
       "      <td>0.0</td>\n",
       "      <td>-1.0</td>\n",
       "      <td>Bryce_NB_2_detect</td>\n",
       "      <td>-1.0</td>\n",
       "      <td>0</td>\n",
       "      <td>0</td>\n",
       "      <td>0.0</td>\n",
       "      <td>-1.0</td>\n",
       "    </tr>\n",
       "    <tr>\n",
       "      <th>3</th>\n",
       "      <td>0.0</td>\n",
       "      <td>1.0</td>\n",
       "      <td>0.0</td>\n",
       "      <td>-1.0</td>\n",
       "      <td>Campus_EB_0_detect</td>\n",
       "      <td>-1.0</td>\n",
       "      <td>0</td>\n",
       "      <td>0</td>\n",
       "      <td>0.0</td>\n",
       "      <td>-1.0</td>\n",
       "    </tr>\n",
       "    <tr>\n",
       "      <th>4</th>\n",
       "      <td>0.0</td>\n",
       "      <td>1.0</td>\n",
       "      <td>0.0</td>\n",
       "      <td>-1.0</td>\n",
       "      <td>Campus_EB_1_detect</td>\n",
       "      <td>-1.0</td>\n",
       "      <td>0</td>\n",
       "      <td>0</td>\n",
       "      <td>0.0</td>\n",
       "      <td>-1.0</td>\n",
       "    </tr>\n",
       "  </tbody>\n",
       "</table>\n",
       "</div>"
      ],
      "text/plain": [
       "   interval_begin  interval_end  interval_flow  interval_harmonicMeanSpeed  \\\n",
       "0             0.0           1.0            0.0                        -1.0   \n",
       "1             0.0           1.0            0.0                        -1.0   \n",
       "2             0.0           1.0            0.0                        -1.0   \n",
       "3             0.0           1.0            0.0                        -1.0   \n",
       "4             0.0           1.0            0.0                        -1.0   \n",
       "\n",
       "          interval_id  interval_length  interval_nVehContrib  \\\n",
       "0   Bryce_NB_0_detect             -1.0                     0   \n",
       "1   Bryce_NB_1_detect             -1.0                     0   \n",
       "2   Bryce_NB_2_detect             -1.0                     0   \n",
       "3  Campus_EB_0_detect             -1.0                     0   \n",
       "4  Campus_EB_1_detect             -1.0                     0   \n",
       "\n",
       "   interval_nVehEntered  interval_occupancy  interval_speed  \n",
       "0                     0                 0.0            -1.0  \n",
       "1                     0                 0.0            -1.0  \n",
       "2                     0                 0.0            -1.0  \n",
       "3                     0                 0.0            -1.0  \n",
       "4                     0                 0.0            -1.0  "
      ]
     },
     "execution_count": 15,
     "metadata": {},
     "output_type": "execute_result"
    }
   ],
   "source": [
    "detector_df.head()"
   ]
  }
 ],
 "metadata": {
  "kernelspec": {
   "display_name": "Python 3",
   "language": "python",
   "name": "python3"
  },
  "language_info": {
   "codemirror_mode": {
    "name": "ipython",
    "version": 3
   },
   "file_extension": ".py",
   "mimetype": "text/x-python",
   "name": "python",
   "nbconvert_exporter": "python",
   "pygments_lexer": "ipython3",
   "version": "3.8.3"
  }
 },
 "nbformat": 4,
 "nbformat_minor": 4
}
